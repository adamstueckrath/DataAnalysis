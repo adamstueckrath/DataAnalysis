{
 "cells": [
  {
   "cell_type": "code",
   "execution_count": 4,
   "metadata": {
    "collapsed": true
   },
   "outputs": [],
   "source": [
    "## Read in the data .csv \n",
    "## and store the results in variables\n",
    "import unicodecsv\n",
    "\n",
    "def parse_csv(file_name):\n",
    "    with open(file_name, 'rb') as f:\n",
    "        reader = unicodecsv.DictReader(f)\n",
    "        return list(reader)\n",
    "    \n",
    "\n",
    "## Takes a date as a string, and returns a Python datetime object.\n",
    "## If there is no date given, returns None.\n",
    "from datetime import datetime as dt\n",
    "\n",
    "def parse_date(date):\n",
    "    if date == '':\n",
    "        return None\n",
    "    else:\n",
    "        return dt.strptime(date, '%Y-%m-%d')\n",
    "    \n",
    "\n",
    "## Takes a string which is either an empty string or represents an integer,\n",
    "## and returns an int or None.\n",
    "def parse_maybe_int(i):\n",
    "    if i == '':\n",
    "        return None\n",
    "    else:\n",
    "        return int(i)\n",
    "\n",
    "    \n",
    "## Takes a file and returns the length.   \n",
    "def total_rows(file_name):\n",
    "    return len(file_name)\n",
    "        \n",
    "    \n",
    "## Loops through a file and appends each row's unique account/primary key to a set.\n",
    "## Returns the set of unique keys.\n",
    "def unique_count(data_file,key_name):\n",
    "    unique_data = set()\n",
    "    for data in data_file:\n",
    "        unique.add(data[key_name])\n",
    "    return unique_data\n",
    "\n",
    "\n",
    "## Change the name of a key in a dictionary. The function adds a new key equaled\n",
    "## to the old key and deletes the old key.\n",
    "def change_dict_key_name(my_dict, new_key, old_key):\n",
    "    for x in my_dict:\n",
    "        x[new_key] = x[old_key]\n",
    "        del[x[old_key]]\n",
    "    return my_dict\n",
    "\n",
    "\n",
    "## Find  unique account/primary keys missing from data_2\n",
    "## Return a list of missing records from data_2\n",
    "def find_missing_data(key,data_1,data_2):\n",
    "    missing_data = []\n",
    "    for data in data_1:\n",
    "        compare_data = data[key]\n",
    "        if compare_data not in data_2:\n",
    "            missing_data.append(data)\n",
    "    return missing_data\n"
   ]
  }
 ],
 "metadata": {
  "anaconda-cloud": {},
  "kernelspec": {
   "display_name": "Python [Root]",
   "language": "python",
   "name": "Python [Root]"
  },
  "language_info": {
   "codemirror_mode": {
    "name": "ipython",
    "version": 2
   },
   "file_extension": ".py",
   "mimetype": "text/x-python",
   "name": "python",
   "nbconvert_exporter": "python",
   "pygments_lexer": "ipython2",
   "version": "2.7.12"
  }
 },
 "nbformat": 4,
 "nbformat_minor": 0
}
